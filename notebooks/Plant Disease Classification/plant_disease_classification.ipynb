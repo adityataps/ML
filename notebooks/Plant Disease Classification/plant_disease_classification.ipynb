{
 "cells": [
  {
   "metadata": {},
   "cell_type": "markdown",
   "source": [
    "# Plant Disease Classification with Fine-Tuned YOLOv8\n",
    "\n",
    "Notebook by Aditya Tapshalkar\n",
    "\n",
    "Kaggle dataset: https://www.kaggle.com/datasets/vipoooool/new-plant-diseases-dataset\n",
    "\n",
    "---\n",
    "\n",
    "## Abstract\n",
    "\n",
    "## Introduction\n"
   ],
   "id": "14f5a21b3b3dd5c2"
  },
  {
   "metadata": {
    "ExecuteTime": {
     "end_time": "2025-05-04T23:28:51.175720Z",
     "start_time": "2025-05-04T23:28:51.172072Z"
    }
   },
   "cell_type": "code",
   "source": [
    "%env KAGGLEHUB_CACHE=/mnt/devbox/kaggle\n",
    "\n",
    "import os\n",
    "\n",
    "import kagglehub\n",
    "import pandas as pd\n",
    "import torch\n",
    "\n",
    "torch.manual_seed(42)\n",
    "print(\"Torch version:\", torch.__version__)\n",
    "print(\"Current device:\", \"cuda\" if torch.cuda.is_available() else \"cpu\")"
   ],
   "id": "157db200c0f72fbb",
   "outputs": [
    {
     "name": "stdout",
     "output_type": "stream",
     "text": [
      "env: KAGGLEHUB_CACHE=/mnt/devbox/kaggle\n",
      "Torch version: 2.5.1\n",
      "Current device: cuda\n"
     ]
    }
   ],
   "execution_count": 9
  },
  {
   "metadata": {
    "ExecuteTime": {
     "end_time": "2025-05-04T23:37:32.264138Z",
     "start_time": "2025-05-04T23:28:51.782610Z"
    }
   },
   "cell_type": "code",
   "source": [
    "# Downloading dataset\n",
    "path = kagglehub.dataset_download(\"vipoooool/new-plant-diseases-dataset\")\n",
    "print(\"Path to dataset files:\", path)"
   ],
   "id": "8c2205c6263756ac",
   "outputs": [
    {
     "name": "stdout",
     "output_type": "stream",
     "text": [
      "Download already complete (2897709187 bytes).\n",
      "Extracting files...\n",
      "Path to dataset files: /mnt/devbox/kaggle/datasets/vipoooool/new-plant-diseases-dataset/versions/2\n"
     ]
    }
   ],
   "execution_count": 10
  },
  {
   "metadata": {},
   "cell_type": "code",
   "outputs": [],
   "execution_count": null,
   "source": "",
   "id": "de15df3790720847"
  }
 ],
 "metadata": {
  "kernelspec": {
   "display_name": "Python 3",
   "language": "python",
   "name": "python3"
  },
  "language_info": {
   "codemirror_mode": {
    "name": "ipython",
    "version": 2
   },
   "file_extension": ".py",
   "mimetype": "text/x-python",
   "name": "python",
   "nbconvert_exporter": "python",
   "pygments_lexer": "ipython2",
   "version": "2.7.6"
  }
 },
 "nbformat": 4,
 "nbformat_minor": 5
}
